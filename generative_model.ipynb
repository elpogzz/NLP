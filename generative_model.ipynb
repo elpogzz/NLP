{
 "cells": [
  {
   "cell_type": "markdown",
   "metadata": {},
   "source": [
    "# Generative Language Model for Pokedex Entry Creation (very early draft)"
   ]
  },
  {
   "cell_type": "markdown",
   "metadata": {},
   "source": [
    "Earlier this year Adam Ellis shared illustrations he made for algorithm-generated Sanrio characters. He got the character's descriptions  from a voicebox keyboard trained with the character's wikipedia bios. I found the character descriptions to be too funny, so I decided to try and generate some of my own, but using a homebrew language model rather than using voicebox. Also, I decided to use a corpus made up of the 7th Gen Pokemon Pokedex entries because it seems like it would be [funnier](http://www.dorkly.com/post/81404/20-super-dark-pokedex-entries-from-pokemon-sun-and-moon). \n",
    "\n",
    "I [scraped](https://docs.python-guide.org/scenarios/scrape/) the data from [Pokemon GO Hub](https://pokemongohub.net/pokemon-ultra-sun-ultra-moon/ultra-sun-moon-pokedex-entries/). The clean dataset can be found [here]."
   ]
  },
  {
   "cell_type": "code",
   "execution_count": 152,
   "metadata": {},
   "outputs": [],
   "source": [
    "import pandas as pd \n",
    "raw_data = pd.read_table(\"raw_data\", header=None)"
   ]
  },
  {
   "cell_type": "markdown",
   "metadata": {},
   "source": [
    "# Cleaning the Data"
   ]
  },
  {
   "cell_type": "code",
   "execution_count": 153,
   "metadata": {},
   "outputs": [],
   "source": [
    "even = raw_data.iloc[::2].reset_index(drop=True)\n",
    "odd = raw_data.iloc[1::2].reset_index(drop=True)"
   ]
  },
  {
   "cell_type": "code",
   "execution_count": 154,
   "metadata": {},
   "outputs": [],
   "source": [
    "pokedex = pd.concat([even,odd], axis = 1)\n",
    "pokedex.columns = ([\"name\",\"entry\"])"
   ]
  },
  {
   "cell_type": "code",
   "execution_count": 155,
   "metadata": {},
   "outputs": [
    {
     "data": {
      "text/html": [
       "<div>\n",
       "<style scoped>\n",
       "    .dataframe tbody tr th:only-of-type {\n",
       "        vertical-align: middle;\n",
       "    }\n",
       "\n",
       "    .dataframe tbody tr th {\n",
       "        vertical-align: top;\n",
       "    }\n",
       "\n",
       "    .dataframe thead th {\n",
       "        text-align: right;\n",
       "    }\n",
       "</style>\n",
       "<table border=\"1\" class=\"dataframe\">\n",
       "  <thead>\n",
       "    <tr style=\"text-align: right;\">\n",
       "      <th></th>\n",
       "      <th>name</th>\n",
       "      <th>entry</th>\n",
       "    </tr>\n",
       "  </thead>\n",
       "  <tbody>\n",
       "    <tr>\n",
       "      <th>0</th>\n",
       "      <td>Caterpie</td>\n",
       "      <td>Perhaps because it would like to grow up quick...</td>\n",
       "    </tr>\n",
       "    <tr>\n",
       "      <th>1</th>\n",
       "      <td>Metapod</td>\n",
       "      <td>Its shell is filled with a thick liquid. All o...</td>\n",
       "    </tr>\n",
       "    <tr>\n",
       "      <th>2</th>\n",
       "      <td>Butterfree</td>\n",
       "      <td>Its wings are covered in toxic scales. If it f...</td>\n",
       "    </tr>\n",
       "    <tr>\n",
       "      <th>3</th>\n",
       "      <td>Rattata</td>\n",
       "      <td>Its incisors grow continuously throughout its ...</td>\n",
       "    </tr>\n",
       "    <tr>\n",
       "      <th>4</th>\n",
       "      <td>Rattata(Alola)</td>\n",
       "      <td>It shows no interest in anything that isn&amp;#821...</td>\n",
       "    </tr>\n",
       "  </tbody>\n",
       "</table>\n",
       "</div>"
      ],
      "text/plain": [
       "             name                                              entry\n",
       "0        Caterpie  Perhaps because it would like to grow up quick...\n",
       "1         Metapod  Its shell is filled with a thick liquid. All o...\n",
       "2      Butterfree  Its wings are covered in toxic scales. If it f...\n",
       "3         Rattata  Its incisors grow continuously throughout its ...\n",
       "4  Rattata(Alola)  It shows no interest in anything that isn&#821..."
      ]
     },
     "execution_count": 155,
     "metadata": {},
     "output_type": "execute_result"
    }
   ],
   "source": [
    "pokedex.head()"
   ]
  },
  {
   "cell_type": "markdown",
   "metadata": {},
   "source": [
    "When I was scraping the data I noticed the number of rows retrieved was even, which shouldn't be possible, since each pokemon name comes with a corresponding description, i.e.: even rows. I realized that Type Null(yes, that is a pokemon's [name](https://bulbapedia.bulbagarden.net/wiki/Type:_Null_(Pokémon)) had an aditional <p\\> tag that made it jump over to the next line, and fixed it on the spot. However, two errors of this type could cancel out and give the impression that the data is correct. Let's inspect the string lengths to make sure this is not the case."
   ]
  },
  {
   "cell_type": "code",
   "execution_count": 169,
   "metadata": {},
   "outputs": [
    {
     "name": "stdout",
     "output_type": "stream",
     "text": [
      "Analyzing the name lengths statistics. A description wrongly added to the names column would be an outlier in the distribution\n",
      "count    468.000000\n",
      "mean       8.677350\n",
      "std        3.111173\n",
      "min        3.000000\n",
      "25%        7.000000\n",
      "50%        8.000000\n",
      "75%        9.000000\n",
      "max       24.000000\n",
      "Name: name, dtype: float64\n"
     ]
    },
    {
     "data": {
      "text/plain": [
       "<matplotlib.text.Text at 0x123941750>"
      ]
     },
     "execution_count": 169,
     "metadata": {},
     "output_type": "execute_result"
    },
    {
     "data": {
      "image/png": "[encoded data removed]",
      "text/plain": [
       "<matplotlib.figure.Figure at 0x124fdd9d0>"
      ]
     },
     "metadata": {},
     "output_type": "display_data"
    }
   ],
   "source": [
    "print \"Analyzing the name lengths statistics. A description wrongly added to the names column would be an outlier in the distribution\"\n",
    "print pokedex_entries.name.apply(len).describe()\n",
    "\n",
    "import matplotlib\n",
    "import matplotlib.pyplot as plt\n",
    "import seaborn as sns\n",
    "%matplotlib inline\n",
    "pokedex[\"name_lengths\"]  =pokedex.name.apply(len)\n",
    "fig = plt.figure(figsize=(4,4))\n",
    "sns.boxplot(y=pokedex.name_lengths, width = 0.25)\n",
    "plt.ylabel(\"Name Length\")"
   ]
  },
  {
   "cell_type": "markdown",
   "metadata": {},
   "source": [
    "There are some outliers on both ends of the distribution. We're not too concerned with the short name (spoilers: it's Muk), and in most cases 25 characters is not enough to be a description (more on this below), but it is worth a while to take a look at the ones with more than 10 characters to see what they're about. "
   ]
  },
  {
   "cell_type": "code",
   "execution_count": 189,
   "metadata": {},
   "outputs": [
    {
     "name": "stdout",
     "output_type": "stream",
     "text": [
      "Longest Name: Magearna(Original Color)\n"
     ]
    },
    {
     "data": {
      "text/html": [
       "<div>\n",
       "<style scoped>\n",
       "    .dataframe tbody tr th:only-of-type {\n",
       "        vertical-align: middle;\n",
       "    }\n",
       "\n",
       "    .dataframe tbody tr th {\n",
       "        vertical-align: top;\n",
       "    }\n",
       "\n",
       "    .dataframe thead th {\n",
       "        text-align: right;\n",
       "    }\n",
       "</style>\n",
       "<table border=\"1\" class=\"dataframe\">\n",
       "  <thead>\n",
       "    <tr style=\"text-align: right;\">\n",
       "      <th></th>\n",
       "      <th>name</th>\n",
       "      <th>entry</th>\n",
       "      <th>name_lengths</th>\n",
       "      <th>clean_entry</th>\n",
       "    </tr>\n",
       "  </thead>\n",
       "  <tbody>\n",
       "    <tr>\n",
       "      <th>461</th>\n",
       "      <td>Magearna(Original Color)</td>\n",
       "      <td>This is its form from almost 500 years ago. It...</td>\n",
       "      <td>24</td>\n",
       "      <td>This is its form from almost 500 years ago. It...</td>\n",
       "    </tr>\n",
       "    <tr>\n",
       "      <th>339</th>\n",
       "      <td>Floette(Eternal Flower)</td>\n",
       "      <td>The flower itâ€™s holding can no longer be fou...</td>\n",
       "      <td>23</td>\n",
       "      <td>The flower it's holding can no longer be found...</td>\n",
       "    </tr>\n",
       "    <tr>\n",
       "      <th>294</th>\n",
       "      <td>Basculin(Blue Stripe)</td>\n",
       "      <td>Even Basculin, which devours everything it can...</td>\n",
       "      <td>21</td>\n",
       "      <td>Even Basculin, which devours everything it can...</td>\n",
       "    </tr>\n",
       "    <tr>\n",
       "      <th>293</th>\n",
       "      <td>Basculin(Red Stripe)</td>\n",
       "      <td>Savage, violent Pokémon, red and blue Basculin...</td>\n",
       "      <td>20</td>\n",
       "      <td>Savage, violent Pokémon, red and blue Basculin...</td>\n",
       "    </tr>\n",
       "    <tr>\n",
       "      <th>458</th>\n",
       "      <td>Necrozma(Dawn Wings)</td>\n",
       "      <td>Lunala no longer has a will of its own. Now un...</td>\n",
       "      <td>20</td>\n",
       "      <td>Lunala no longer has a will of its own. Now un...</td>\n",
       "    </tr>\n",
       "    <tr>\n",
       "      <th>390</th>\n",
       "      <td>Oricorio(Pa&amp;#8217;u)</td>\n",
       "      <td>It relaxes its opponents with its elegant danc...</td>\n",
       "      <td>20</td>\n",
       "      <td>It relaxes its opponents with its elegant danc...</td>\n",
       "    </tr>\n",
       "    <tr>\n",
       "      <th>457</th>\n",
       "      <td>Necrozma(Dusk Mane)</td>\n",
       "      <td>This is its form while it is devouring the lig...</td>\n",
       "      <td>19</td>\n",
       "      <td>This is its form while it is devouring the lig...</td>\n",
       "    </tr>\n",
       "    <tr>\n",
       "      <th>396</th>\n",
       "      <td>Lycanroc(Midnight)</td>\n",
       "      <td>It has no problem ignoring orders it doesn’t l...</td>\n",
       "      <td>18</td>\n",
       "      <td>It has no problem ignoring orders it doesn't l...</td>\n",
       "    </tr>\n",
       "    <tr>\n",
       "      <th>399</th>\n",
       "      <td>Wishiwashi(School)</td>\n",
       "      <td>Wishiwashi assemble in this formation to face ...</td>\n",
       "      <td>18</td>\n",
       "      <td>Wishiwashi assemble in this formation to face ...</td>\n",
       "    </tr>\n",
       "    <tr>\n",
       "      <th>398</th>\n",
       "      <td>Whishiwashi(Solo)</td>\n",
       "      <td>They’re weak, so they move in schools. However...</td>\n",
       "      <td>17</td>\n",
       "      <td>They're weak, so they move in schools. However...</td>\n",
       "    </tr>\n",
       "  </tbody>\n",
       "</table>\n",
       "</div>"
      ],
      "text/plain": [
       "                         name  \\\n",
       "461  Magearna(Original Color)   \n",
       "339   Floette(Eternal Flower)   \n",
       "294     Basculin(Blue Stripe)   \n",
       "293      Basculin(Red Stripe)   \n",
       "458      Necrozma(Dawn Wings)   \n",
       "390      Oricorio(Pa&#8217;u)   \n",
       "457       Necrozma(Dusk Mane)   \n",
       "396        Lycanroc(Midnight)   \n",
       "399        Wishiwashi(School)   \n",
       "398         Whishiwashi(Solo)   \n",
       "\n",
       "                                                 entry  name_lengths  \\\n",
       "461  This is its form from almost 500 years ago. It...            24   \n",
       "339  The flower itâ€™s holding can no longer be fou...            23   \n",
       "294  Even Basculin, which devours everything it can...            21   \n",
       "293  Savage, violent Pokémon, red and blue Basculin...            20   \n",
       "458  Lunala no longer has a will of its own. Now un...            20   \n",
       "390  It relaxes its opponents with its elegant danc...            20   \n",
       "457  This is its form while it is devouring the lig...            19   \n",
       "396  It has no problem ignoring orders it doesn’t l...            18   \n",
       "399  Wishiwashi assemble in this formation to face ...            18   \n",
       "398  They’re weak, so they move in schools. However...            17   \n",
       "\n",
       "                                           clean_entry  \n",
       "461  This is its form from almost 500 years ago. It...  \n",
       "339  The flower it's holding can no longer be found...  \n",
       "294  Even Basculin, which devours everything it can...  \n",
       "293  Savage, violent Pokémon, red and blue Basculin...  \n",
       "458  Lunala no longer has a will of its own. Now un...  \n",
       "390  It relaxes its opponents with its elegant danc...  \n",
       "457  This is its form while it is devouring the lig...  \n",
       "396  It has no problem ignoring orders it doesn't l...  \n",
       "399  Wishiwashi assemble in this formation to face ...  \n",
       "398  They're weak, so they move in schools. However...  "
      ]
     },
     "execution_count": 189,
     "metadata": {},
     "output_type": "execute_result"
    }
   ],
   "source": [
    "outliers = (pokedex.name_lengths > 11) | (pokedex.name_lengths < 4)\n",
    "print \"Longest Name:\" , pokedex.name[pokedex.name_lengths.idxmax()]\n",
    "pokedex[outliers].sort_values(by = [\"name_lengths\"], ascending = False).head(10)"
   ]
  },
  {
   "cell_type": "markdown",
   "metadata": {},
   "source": [
    "So, the long names are because of the pokemon name modifiers. Everything seems to be alright, except for the html codes for apostrophe \\(&\\#8217;). and encoding problems (â€™ instead of '). We'll fix this when we pre-process the text. \n",
    "\n",
    "I mentioned earlier that 25 characters is not enough to be a pokedex entry. Other than common sense, this is can be established by peeking at the distribution of entry lenghts below."
   ]
  },
  {
   "cell_type": "code",
   "execution_count": 178,
   "metadata": {},
   "outputs": [
    {
     "name": "stdout",
     "output_type": "stream",
     "text": [
      "count    468.000000\n",
      "mean     121.935897\n",
      "std       15.983267\n",
      "min       70.000000\n",
      "25%      111.000000\n",
      "50%      124.000000\n",
      "75%      134.000000\n",
      "max      162.000000\n",
      "Name: entry, dtype: float64\n"
     ]
    }
   ],
   "source": [
    "print pokedex_entries.entry.apply(len).describe()"
   ]
  },
  {
   "cell_type": "markdown",
   "metadata": {},
   "source": [
    "The minimum length of a pokedex entry is 70 characters."
   ]
  },
  {
   "cell_type": "markdown",
   "metadata": {},
   "source": [
    "### Pre-processing the text"
   ]
  },
  {
   "cell_type": "code",
   "execution_count": null,
   "metadata": {},
   "outputs": [],
   "source": [
    "“fireworks of the earth.”\n"
   ]
  },
  {
   "cell_type": "code",
   "execution_count": 289,
   "metadata": {},
   "outputs": [],
   "source": [
    "import re\n",
    "\n",
    "apostrophe = re.compile(\"&#8217;|&#8216;|&#39;|â€™|’\")\n",
    "to_remove = re.compile(\"“|”|,\")\n",
    "def preprocess_text(txt, lower = False):    \n",
    "    txt.replace(\"&#8211;\", \"-\")\n",
    "    txt = re.sub(to_remove, \"\", txt)\n",
    "    txt = re.sub(apostrophe, \"'\", txt)\n",
    "    txt = txt.lower() if lower else txt \n",
    "    return txt"
   ]
  },
  {
   "cell_type": "code",
   "execution_count": 215,
   "metadata": {},
   "outputs": [],
   "source": [
    "pokedex[\"clean_entry\"]  = pokedex.entry.apply(preprocess_text)"
   ]
  },
  {
   "cell_type": "code",
   "execution_count": 201,
   "metadata": {},
   "outputs": [
    {
     "name": "stdout",
     "output_type": "stream",
     "text": [
      "330    When battling opponents, it sprays fire from i...\n",
      "401    To attack, this Pokémon sends toxic spikes fly...\n",
      "218    Castform changes to this form when rain hits i...\n",
      "233    Thought to have gone extinct, Relicanth was gi...\n",
      "67     Delicate equipment can malfunction in areas in...\n",
      "230    Despite its appearance, it’s carnivorous. It c...\n",
      "62     It&#8217;s grumpy and stubborn. If you upset i...\n",
      "247    While they normally live in the sea, they can ...\n",
      "159    They will cooperate to steal eggs from the nes...\n",
      "372    If you try too hard to get close to it, it won...\n",
      "Name: entry, dtype: object\n",
      "330    When battling opponents it sprays fire from it...\n",
      "401    To attack this Pokémon sends toxic spikes flyi...\n",
      "218    Castform changes to this form when rain hits i...\n",
      "233    Thought to have gone extinct Relicanth was giv...\n",
      "67     Delicate equipment can malfunction in areas in...\n",
      "230    Despite its appearance it's carnivorous. It cl...\n",
      "62     It's grumpy and stubborn. If you upset it it d...\n",
      "247    While they normally live in the sea they can f...\n",
      "159    They will cooperate to steal eggs from the nes...\n",
      "372    If you try too hard to get close to it it won'...\n",
      "Name: clean_entry, dtype: object\n"
     ]
    }
   ],
   "source": [
    "print pokedex.entry.sample(10, random_state=1)\n",
    "print pokedex.clean_entry.sample(10, random_state=1)"
   ]
  },
  {
   "cell_type": "code",
   "execution_count": 222,
   "metadata": {},
   "outputs": [],
   "source": [
    "corpus = [item.split(\".\") for item in pokedex[\"clean_entry\"]]\n",
    "corpus = [item.strip().split() for sublist in corpus for item in sublist if item != \"\"]"
   ]
  },
  {
   "cell_type": "code",
   "execution_count": 274,
   "metadata": {},
   "outputs": [],
   "source": [
    "from nltk import bigrams, trigrams\n",
    "from collections import Counter, defaultdict\n",
    "model = defaultdict(lambda: defaultdict(lambda: 0))\n",
    "\n",
    "for sentence in corpus:\n",
    "    for w1, w2, w3 in trigrams(sentence, pad_right=True, pad_left=True):\n",
    "        model[(w1, w2)][w3] += 1\n",
    "  \n",
    "# Let's transform the counts to probabilities\n",
    "for w1_w2 in model:\n",
    "    total_count = float(sum(model[w1_w2].values()))\n",
    "    for w3 in model[w1_w2]:\n",
    "        model[w1_w2][w3] /= total_count"
   ]
  },
  {
   "cell_type": "code",
   "execution_count": 287,
   "metadata": {},
   "outputs": [],
   "source": [
    "import random\n",
    " \n",
    "def generate_entry():    \n",
    "    text = [None, None]\n",
    "    prob = 1.0  # <- Init probability\n",
    "\n",
    "    sentence_finished = False\n",
    "\n",
    "    while not sentence_finished:\n",
    "        r = random.random()\n",
    "        accumulator = .0\n",
    "\n",
    "        for word in model[tuple(text[-2:])].keys():\n",
    "            accumulator += model[tuple(text[-2:])][word]\n",
    "\n",
    "            if accumulator >= r:\n",
    "                prob *= model[tuple(text[-2:])][word]  # <- Update the probability with the conditional probability of the new word\n",
    "                text.append(word)\n",
    "                break\n",
    "\n",
    "        if text[-2:] == [None, None]:\n",
    "            sentence_finished = True\n",
    "\n",
    "    #print \"Probability of text=\", prob  # <- Print the probability of the text\n",
    "    print ' '.join([t for t in text if t])\n",
    " \n",
    "# Probability of text= 4.69753034878e-48\n",
    "# DOW CHEMICAL & lt ; SFE > IN ACQUISITION TALKS Comdata Network Inc said it sold the unit , leading to the group and this would not resist a half mln barrels to 247 . 0 pct , Ivory Coast is the lowest growth rate , he said ."
   ]
  },
  {
   "cell_type": "markdown",
   "metadata": {},
   "source": [
    "Some of my favorite creations:"
   ]
  },
  {
   "cell_type": "markdown",
   "metadata": {},
   "source": [
    "_\"Jellicent is always hanging around fancy cruise ships and tankers hoping to drag away its prey and chews them whole with its cheerful dance moves\"_\n",
    "Yaas, Jellicent, slay mama!\n",
    "\n",
    "_\"It doesn't just transform itself it also has the power to such an extent that it tortures its weakened prey rather than finishing them off\"_\n",
    "Is this Freezer we're talking about?\n",
    "\n",
    "_\"They're all hard workers who eat a lot of love from skiers and snowboarders\"_\n",
    "Aren't we all?\n",
    "\n",
    "_\"A clean freak that will become a malevolent deity and attack\"_\n",
    "Yes, this describes me perfectly."
   ]
  },
  {
   "cell_type": "code",
   "execution_count": null,
   "metadata": {},
   "outputs": [],
   "source": []
  }
 ],
 "metadata": {
  "kernelspec": {
   "display_name": "Python 2",
   "language": "python",
   "name": "python2"
  },
  "language_info": {
   "codemirror_mode": {
    "name": "ipython",
    "version": 2
   },
   "file_extension": ".py",
   "mimetype": "text/x-python",
   "name": "python",
   "nbconvert_exporter": "python",
   "pygments_lexer": "ipython2",
   "version": "2.7.10"
  }
 },
 "nbformat": 4,
 "nbformat_minor": 2
}
